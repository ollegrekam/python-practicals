{
 "cells": [
  {
   "cell_type": "markdown",
   "metadata": {
    "id": "12_fdbLn8p4A"
   },
   "source": [
    "\n",
    "\n",
    "    \n",
    "#    <center> <b> <span style=\"color:orange;\" >  `Python for Scientific Computing and Software Engineering ` </span> </b></center>\n",
    "\n",
    "\n",
    "## <center> <b> <span style=\"color:orange;\"> An Initiation to Programming using Python (Init2Py) </span> </b></center>\n",
    "\n",
    "### <center> <b> <span style=\"color:blue;\"> Travaux Pratiques: Objets itérables ou conteneurs</span> </b></center>\n"
   ]
  },
  {
   "cell_type": "markdown",
   "metadata": {
    "id": "E_ZB23H68p4D"
   },
   "source": [
    "###  <center> <b> <span style=\"color:blue;\"> Listes </span> </b></center>"
   ]
  },
  {
   "cell_type": "markdown",
   "metadata": {
    "id": "H0cIcjGk8p4G"
   },
   "source": [
    "#### **Exercice 00:** \n",
    ">**Déclarer une liste vide.**"
   ]
  },
  {
   "cell_type": "code",
   "execution_count": null,
   "metadata": {
    "id": "45QEMilz8p4I"
   },
   "outputs": [],
   "source": [
    "l=[]"
   ]
  },
  {
   "cell_type": "markdown",
   "metadata": {
    "id": "zZ0XnwpB8p4J"
   },
   "source": [
    "Exercice 01:\n",
    "Déclarer une liste de plus de 5 éléments.**"
   ]
  },
  {
   "cell_type": "code",
   "execution_count": 3,
   "metadata": {
    "id": "HV32hLfA8p4L"
   },
   "outputs": [
    {
     "name": "stdout",
     "output_type": "stream",
     "text": [
      "[1, 'u', 4, 5, 'm', 5, 8]\n"
     ]
    }
   ],
   "source": [
    "g=[1, \"u\", 4, 5, \"m\", 5, 8,]\n",
    "print(g)"
   ]
  },
  {
   "cell_type": "markdown",
   "metadata": {
    "id": "tJpy6kNz8p4M"
   },
   "source": [
    "#### **Exercice 02:** \n",
    ">**Trouver la longueur de votre liste.**"
   ]
  },
  {
   "cell_type": "code",
   "execution_count": 4,
   "metadata": {
    "id": "627A_RNw8p4O"
   },
   "outputs": [
    {
     "name": "stdout",
     "output_type": "stream",
     "text": [
      "7\n"
     ]
    }
   ],
   "source": [
    "print(len(g))"
   ]
  },
  {
   "cell_type": "markdown",
   "metadata": {
    "id": "unFrwT5t8p4Q"
   },
   "source": [
    "#### **Exercice 03:** \n",
    ">**Obtenez le premier élément, l'élément central et le dernier élément de la liste.**\n",
    "\n"
   ]
  },
  {
   "cell_type": "code",
   "execution_count": 9,
   "metadata": {
    "id": "MUuc1gaQ8p4R"
   },
   "outputs": [
    {
     "name": "stdout",
     "output_type": "stream",
     "text": [
      "1\n",
      "5\n",
      "8\n"
     ]
    }
   ],
   "source": [
    "g=[1, \"u\", 4, 5, \"m\", 5, 8,]\n",
    "print(g[0])#premier element de la liste g\n",
    "print(g[3])#element central car la longueur est impaire\n",
    "print(g[-1])#dernier element"
   ]
  },
  {
   "cell_type": "markdown",
   "metadata": {
    "id": "4Rqp8q0L8p4R"
   },
   "source": [
    "#### **Exercice 04:** \n",
    ">**Déclarez une liste appelée mixed_data_types, mettez votre (nom, âge, taille, état civil, adresse).**"
   ]
  },
  {
   "cell_type": "code",
   "execution_count": 10,
   "metadata": {
    "id": "EoZPW2UH8p4S"
   },
   "outputs": [
    {
     "name": "stdout",
     "output_type": "stream",
     "text": [
      "['KAM Olle Gregoire', 28, 1.75, 'celibataire', 'MBour']\n"
     ]
    }
   ],
   "source": [
    "mixed_data_types=['KAM Olle Gregoire', 28, 1.75, 'celibataire', 'MBour']\n",
    "print(mixed_data_types)"
   ]
  },
  {
   "cell_type": "markdown",
   "metadata": {
    "id": "OPYSNV1l8p4T"
   },
   "source": [
    "#### **Exercice 05:** \n",
    "\n",
    "    1. Déclarez une variable liste appelée it_companies et attribuez les valeurs initiales Facebook, Google, Microsoft, Apple, IBM, Oracle et Amazon.\n",
    "\n",
    "    2. Imprimez la liste à l'aide de print()\n",
    "\n",
    "    3. Imprimez le nombre d'entreprises dans la liste\n",
    "\n",
    "    4. Imprimez la première, la moyenne et la dernière entreprise\n",
    "\n",
    "    5. Imprimez la liste après avoir modifié l'une des entreprises.\n",
    "\n",
    "    6. Ajout d'une entreprise informatique à it_companies\n",
    "\n",
    "    7. Insérer une entreprise informatique au milieu de la liste des entreprises\n",
    "\n",
    "    8. Changez le nom d'une des it_companies en majuscule (sauf IBM !)\n",
    "\n",
    "    9. Joignez les it_companies avec une chaîne '# ; '.\n",
    "\n",
    "    10. Vérifier si une certaine entreprise existe dans la liste it_companies.\n",
    "\n",
    "    11. Trier la liste en utilisant la méthode sort()\n",
    "\n",
    "    12. Inversez la liste par ordre décroissant à l'aide de la méthode reverse().\n",
    "\n",
    "    13. Supprimez les 3 premières entreprises de la liste.\n",
    "\n",
    "    14. Supprimez les 3 dernières entreprises de la liste.\n",
    "\n",
    "    15. Supprimez la ou les entreprises informatiques du milieu de la liste.\n",
    "\n",
    "    16. Supprimez la première entreprise informatique de la liste\n",
    "\n",
    "    17. Supprimez la ou les entreprises informatiques du milieu de la liste.\n",
    "\n",
    "    18. Retirer la dernière entreprise informatique de la liste\n",
    "\n",
    "    19. Supprimez toutes les entreprises informatiques de la liste\n",
    "\n",
    "    20. Détruire la liste des entreprises informatiques"
   ]
  },
  {
   "cell_type": "code",
   "execution_count": 4,
   "metadata": {
    "id": "4M_XODba8p4V"
   },
   "outputs": [
    {
     "name": "stdout",
     "output_type": "stream",
     "text": [
      "['Facebook', 'Google', 'Microsoft', 'Apple', 'IBM', 'Oracle', 'Amazon']\n",
      "7\n",
      "La premiere entreprise est: Facebook\n",
      "La deuxieme entreprise est: IBM\n",
      "La derniere entreprise est: Amazon\n",
      "['Facebook', 'GreGoogle', 'Microsoft', 'Apple', 'IBM', 'Oracle', 'Amazon']\n",
      "['Facebook', 'GreGoogle', 'Microsoft', 'Apple', 'IBM', 'Oracle', 'Amazon', 'Instagram']\n",
      "['Facebook', 'GreGoogle', 'Microsoft', 'Lenovo', 'IBM', 'Oracle', 'Amazon', 'Instagram']\n",
      "['FACEBOOK', 'GreGoogle', 'Microsoft', 'Lenovo', 'IBM', 'Oracle', 'Amazon', 'Instagram']\n",
      "['FACEBOOK#GreGoogle#Microsoft#Lenovo#IBM#Oracle#Amazon#Instagram']\n",
      "False\n"
     ]
    }
   ],
   "source": [
    "it_companies=['Facebook', 'Google', 'Microsoft', 'Apple', 'IBM', 'Oracle', 'Amazon']#question 1\n",
    "print(it_companies)#question 2\n",
    "print(len(it_companies))#question 3\n",
    "print(\"La premiere entreprise est:\",it_companies[0])#question 4\\a\n",
    "print(\"La deuxieme entreprise est:\",it_companies[4])#question4\\b\n",
    "print(\"La derniere entreprise est:\",it_companies[-1])#question 4\\c\n",
    "it_companies[1]='Gre'+it_companies[1]#question5\n",
    "print(it_companies)#question5\n",
    "it_companies=it_companies+ ['Instagram']#question6\n",
    "print(it_companies)#question6\n",
    "it_companies[3]='Lenovo'#question7\n",
    "print(it_companies)#question7\n",
    "it_companies[0]=it_companies[0].upper()#question8\n",
    "print(it_companies)#question8\n",
    "P='#'#question9\n",
    "it_companies=P.join(it_companies)#question9\n",
    "it_companies=it_companies.split(';')#question9\n",
    "print(it_companies)#Question9\n",
    "print('Samsung' in it_companies)#question10"
   ]
  },
  {
   "cell_type": "code",
   "execution_count": 5,
   "metadata": {},
   "outputs": [
    {
     "name": "stdout",
     "output_type": "stream",
     "text": [
      "['FACEBOOK#GreGoogle#Microsoft#Lenovo#IBM#Oracle#Amazon#Instagram']\n",
      "['FACEBOOK#GreGoogle#Microsoft#Lenovo#IBM#Oracle#Amazon#Instagram']\n"
     ]
    }
   ],
   "source": [
    "it_companies.sort()#question11\n",
    "print(it_companies)#question11\n",
    "it_companies.reverse()\n",
    "print(it_companies)\n"
   ]
  },
  {
   "cell_type": "markdown",
   "metadata": {
    "id": "AfauolZA8p4V"
   },
   "source": [
    "#### **Exercice 06:** \n",
    "**Joindre les listes suivantes :**\n",
    "     \n",
    "         front_end = ['HTML', 'CSS', 'JS', 'React', 'Redux']  \n",
    "         back_end = ['Node','Express', 'MongoDB']"
   ]
  },
  {
   "cell_type": "code",
   "execution_count": 7,
   "metadata": {
    "id": "6V8OXDSW8p4W"
   },
   "outputs": [
    {
     "data": {
      "text/plain": [
       "['HTML', 'CSS', 'JS', 'React', 'Redux', 'note', 'Express', 'MongoDB']"
      ]
     },
     "execution_count": 7,
     "metadata": {},
     "output_type": "execute_result"
    }
   ],
   "source": [
    "front_end=['HTML', 'CSS', 'JS', 'React','Redux']\n",
    "back_end=['note', 'Express','MongoDB']\n",
    "L=front_end +back_end\n",
    "L"
   ]
  },
  {
   "cell_type": "markdown",
   "metadata": {
    "id": "kASFM1bh8p4X"
   },
   "source": [
    "#### **Exercice 07:** \n",
    "Voici une liste de 10 âges d'étudiants :\n",
    "\n",
    "         ages = [19, 22, 19, 24, 20, 25, 26, 24, 25, 24]\n",
    "         \n",
    " \n",
    "    1. Trier la liste et trouver l'âge minimum et maximum.\n",
    "    2. Ajoutez à nouveau l'âge minimum et l'âge maximum à la liste.\n",
    "    3. Trouvez l'âge médian (un élément du milieu ou deux éléments du milieu divisés par deux).\n",
    "    4. Trouvez l'âge moyen (somme de tous les éléments divisée par leur nombre).\n",
    "    4. Trouver l'intervalle des âges (max moins min)\n",
    "    5. Comparez les valeurs de (min - moyenne) et (max - moyenne) en utilisant la méthode abs().\n",
    "        "
   ]
  },
  {
   "cell_type": "code",
   "execution_count": 2,
   "metadata": {
    "id": "TWTGGaOO8p4Z"
   },
   "outputs": [
    {
     "name": "stdout",
     "output_type": "stream",
     "text": [
      "[19, 19, 20, 22, 24, 24, 24, 25, 25, 26]\n",
      "l' age minimun est 19\n",
      "l'age maximum est 26\n",
      "la longueur de la file est: 10\n",
      "l'age median est: 24.0\n",
      "la moyenne arithemetique est: 22.8\n",
      "l'intervalle des ages est: 7\n"
     ]
    }
   ],
   "source": [
    "ages=[19, 22, 19, 24, 20, 25, 26, 24, 25, 24]\n",
    "ages.sort()\n",
    "print(ages)\n",
    "print(\"l' age minimun est\", ages[0])\n",
    "print(\"l'age maximum est\", ages[-1])\n",
    "print(\"la longueur de la file est:\", len(ages))\n",
    "print(\"l'age median est:\", (ages[5]+ages[6])/2)\n",
    "m=(ages[0]+ages[1]+ages[2]+ages[3]+ages[4]+ages[5]+ages[6]+ages[7]+ages[8]+ages[9])/len(ages)\n",
    "print(\"la moyenne arithemetique est:\", m)\n",
    "print(\"l'intervalle des ages est:\", ages[-1]-ages[0])   "
   ]
  },
  {
   "cell_type": "code",
   "execution_count": null,
   "metadata": {
    "id": "TEtbXitA8p4h"
   },
   "outputs": [],
   "source": []
  },
  {
   "cell_type": "markdown",
   "metadata": {
    "id": "bF7FI4iT8p4i"
   },
   "source": [
    "###  <center> <b> <span style=\"color:blue;\"> Dictionnaires </span> </b></center>"
   ]
  },
  {
   "cell_type": "markdown",
   "metadata": {
    "id": "VzcSJMf18p4j"
   },
   "source": [
    "\n",
    "1. Créer un dictionnaire vide appelé `dog`\n",
    "2. Ajoute le nom, la couleur, la race, les pattes, l'âge au dictionnaire dog.\n",
    "3. Créez un dictionnaire student et ajoutez le prénom, le nom, le sexe, l'âge, l'état civil, les compétences, le pays, la ville et l'adresse comme clés pour le dictionnaire.\n",
    "4. Obtenez la longueur du dictionnaire student\n",
    "5. Récupérez la valeur des compétences et vérifiez le type de données, il doit s'agir d'une liste.\n",
    "6. Modifiez les valeurs des compétences en ajoutant une ou deux compétences.\n",
    "7. Obtenez les clés du dictionnaire sous forme de liste\n",
    "8. Obtenir les valeurs du dictionnaire sous forme de liste\n",
    "9. Transformer le dictionnaire en une liste de tuples en utilisant la méthode items()\n",
    "10. Supprimer un des éléments du dictionnaire\n",
    "11. Supprimer un des dictionnaires\n"
   ]
  },
  {
   "cell_type": "code",
   "execution_count": 27,
   "metadata": {
    "id": "LJ6DfBUh8p4k"
   },
   "outputs": [
    {
     "name": "stdout",
     "output_type": "stream",
     "text": [
      "{'nom': 'Milou', 'couleur': 'noire', 'race': 'european', 'patte': 'longue', 'age': '3'}\n",
      "dict_keys(['prenom', 'nom', 'sexe', 'age', 'etat civil', 'competence', 'pays', 'ville', 'adresse'])\n",
      "dict_values(['Gregoire', 'KAM', 'masculin', '28', 'celibataire', 'mathematicien', 'Burkina Faso', 'Bobo Dsso', 'Mbour'])\n",
      "la longeur du dico est: 9\n",
      "Gregoire\n",
      "KAM\n",
      "masculin\n"
     ]
    },
    {
     "ename": "AttributeError",
     "evalue": "'dict' object has no attribute 'value'",
     "output_type": "error",
     "traceback": [
      "\u001b[0;31m---------------------------------------------------------------------------\u001b[0m",
      "\u001b[0;31mAttributeError\u001b[0m                            Traceback (most recent call last)",
      "\u001b[0;32m<ipython-input-27-3ec13069bba0>\u001b[0m in \u001b[0;36m<module>\u001b[0;34m\u001b[0m\n\u001b[1;32m     17\u001b[0m \u001b[0mprint\u001b[0m\u001b[0;34m(\u001b[0m\u001b[0mstudent\u001b[0m\u001b[0;34m[\u001b[0m\u001b[0;34m'sexe'\u001b[0m\u001b[0;34m]\u001b[0m\u001b[0;34m)\u001b[0m\u001b[0;34m\u001b[0m\u001b[0;34m\u001b[0m\u001b[0m\n\u001b[1;32m     18\u001b[0m \u001b[0mstudent\u001b[0m\u001b[0;34m[\u001b[0m\u001b[0;34m'competence'\u001b[0m\u001b[0;34m]\u001b[0m\u001b[0;34m=\u001b[0m\u001b[0;34m[\u001b[0m\u001b[0;34m'mathematician'\u001b[0m  \u001b[0;34m'physicien'\u001b[0m \u001b[0;34m'informatician'\u001b[0m\u001b[0;34m]\u001b[0m\u001b[0;34m\u001b[0m\u001b[0;34m\u001b[0m\u001b[0m\n\u001b[0;32m---> 19\u001b[0;31m \u001b[0mprint\u001b[0m\u001b[0;34m(\u001b[0m\u001b[0mstudent\u001b[0m\u001b[0;34m.\u001b[0m\u001b[0mvalue\u001b[0m\u001b[0;34m)\u001b[0m\u001b[0;34m\u001b[0m\u001b[0;34m\u001b[0m\u001b[0m\n\u001b[0m",
      "\u001b[0;31mAttributeError\u001b[0m: 'dict' object has no attribute 'value'"
     ]
    }
   ],
   "source": [
    "dog={}\n",
    "dog\n",
    "dog['nom']='Milou' \n",
    "dog['couleur']='noire'\n",
    "dog['race']= 'european'\n",
    "dog['patte']='longue'\n",
    "dog['age']='3'\n",
    "print(dog)\n",
    "student={ 'prenom':'Gregoire', 'nom':'KAM', 'sexe':'masculin', 'age':'28', 'etat civil':'celibataire', 'competence':'mathematicien', 'pays':'Burkina Faso', 'ville':'Bobo Dsso', 'adresse':'Mbour'}\n",
    "print(student.keys())\n",
    "stud=student.values()\n",
    "print(stud)\n",
    "print(\"la longeur du dico est:\",len(stud))\n",
    "print(student['prenom'])\n",
    "type(student['prenom'])\n",
    "print(student['nom'])\n",
    "print(student['sexe'])\n",
    "student['competence']=['mathematician'  'physicien' 'informatician']\n"
   ]
  },
  {
   "cell_type": "markdown",
   "metadata": {
    "id": "ugc1Itzb8p4l"
   },
   "source": [
    "<center> <b> <span style=\"color:orange;\"> 🎉 FÉLICITATIONS ! / CONGRATULATIONS !🎉 </span> </b></center>"
   ]
  },
  {
   "cell_type": "code",
   "execution_count": null,
   "metadata": {},
   "outputs": [],
   "source": []
  }
 ],
 "metadata": {
  "colab": {
   "name": "Exercices_02_Objets-itérables-ou-conteneurs.ipynb",
   "provenance": []
  },
  "kernelspec": {
   "display_name": "Python 3",
   "language": "python",
   "name": "python3"
  },
  "language_info": {
   "codemirror_mode": {
    "name": "ipython",
    "version": 3
   },
   "file_extension": ".py",
   "mimetype": "text/x-python",
   "name": "python",
   "nbconvert_exporter": "python",
   "pygments_lexer": "ipython3",
   "version": "3.7.3"
  }
 },
 "nbformat": 4,
 "nbformat_minor": 1
}
