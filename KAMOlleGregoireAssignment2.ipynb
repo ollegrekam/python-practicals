{
 "cells": [
  {
   "cell_type": "code",
   "execution_count": 1,
   "metadata": {},
   "outputs": [],
   "source": [
    "#Exercice1\n",
    "\n",
    "from math import sqrt #importation de la fonction racine carrée \n",
    "from math import sin  #importation de la fonction sinus \n",
    "def calculation():\n",
    "    x = int(input(\"Donner la valeur de x :\"))\n",
    "    y = int(input(\"Donner la valeur de y :\"))\n",
    "    r = x**2+y\n",
    "    v = sqrt(r)\n",
    "    d = 1/x+2*sin(y)\n",
    "    c = v/d\n",
    "    return c\n"
   ]
  },
  {
   "cell_type": "code",
   "execution_count": 2,
   "metadata": {},
   "outputs": [
    {
     "name": "stdout",
     "output_type": "stream",
     "text": [
      "Donner la valeur de x :2\n",
      "Donner la valeur de y :3\n"
     ]
    },
    {
     "data": {
      "text/plain": [
       "3.382275588749241"
      ]
     },
     "execution_count": 2,
     "metadata": {},
     "output_type": "execute_result"
    }
   ],
   "source": [
    "calculation()"
   ]
  },
  {
   "cell_type": "code",
   "execution_count": 6,
   "metadata": {},
   "outputs": [],
   "source": [
    "#Exercice2\n",
    "\n",
    "def ownpowerfn_py():\n",
    "    b = int(input(\"Donner la valeur de b\"))\n",
    "    n = int(input (\"donner la valeur de n\"))\n",
    "    d = b\n",
    "    for i in range(n-1):\n",
    "        b*=d\n",
    "    print(b)"
   ]
  },
  {
   "cell_type": "code",
   "execution_count": 7,
   "metadata": {},
   "outputs": [
    {
     "name": "stdout",
     "output_type": "stream",
     "text": [
      "Donner la valeur de b5\n",
      "donner la valeur de n2\n",
      "25\n"
     ]
    }
   ],
   "source": [
    "ownpowerfn_py()"
   ]
  },
  {
   "cell_type": "code",
   "execution_count": null,
   "metadata": {},
   "outputs": [],
   "source": [
    "#Exercice3(a)\n",
    "rom statistics import mean\n",
    "from statistics import geometric_mean\n",
    "def moyenne():\n",
    "    a = int(input(\"Donner la premiere valeur\"))\n",
    "    b = int(input(\"Donner la deuxieme valeur\"))\n",
    "    m_a=[a,b]\n",
    "    A = mean(m_a)\n",
    "    g = geometric_mean(m_a)\n",
    "    print(\"la moyenne arithmetique est :\",A)\n",
    "    print(\"la moyenne geometrique est :\", g)\n"
   ]
  },
  {
   "cell_type": "code",
   "execution_count": null,
   "metadata": {},
   "outputs": [],
   "source": [
    "#Exercice3(b)\n",
    "def celcius_to_fahrenheit():\n",
    "    c = float(input(\"Donner la temperature en degre celsius\"))\n",
    "    F = 1.8*c +32 \n",
    "    print(c,\"=\",F, \"degre fahrenheit\")\n",
    "def fahrenheit_to_celcius():\n",
    "    f = float(input(\"Donner la temperature en degre fahrenheit\"))\n",
    "    C = (f-32)/1.8\n",
    "    print(f, \"=\", C,\"degre celsius\") \n"
   ]
  },
  {
   "cell_type": "code",
   "execution_count": null,
   "metadata": {},
   "outputs": [],
   "source": [
    "#Exercice(c)\n",
    "from math import pi\n",
    "def degrees_to_radians():\n",
    "    c = float(input(\"Donner la valeur de l'angle en degre\"))\n",
    "    R =  (180*c)/pi\n",
    "    print(c,\"=\",R, \"radian\")\n",
    "def radians_to_degrees():\n",
    "    r = float(input(\"Donner la valeur de l'angle en radian\"))\n",
    "    C = (r*pi)/180\n",
    "    print(r, \"=\", C,\"degre \")"
   ]
  },
  {
   "cell_type": "code",
   "execution_count": null,
   "metadata": {},
   "outputs": [],
   "source": [
    "#Exercice(d)\n",
    "from math import pi\n",
    "def cercle():\n",
    "    r = float(input('Donner le rayon du cercle :'))\n",
    "    circumference = 2*pi*r\n",
    "    area = pi*r**2\n",
    "    print('the circumference of circle is :',circumference)\n",
    "    print('the area of circle is :',area)"
   ]
  },
  {
   "cell_type": "code",
   "execution_count": null,
   "metadata": {},
   "outputs": [],
   "source": [
    "#Exercice4(a)\n",
    "from statistics import mean\n",
    "from statistics import geometric_mean\n",
    "def moyenne():\n",
    "    a = int(input(\"Donner la premiere valeur\"))\n",
    "    b = int(input(\"Donner la deuxieme valeur\"))\n",
    "    m_a=[a,b]\n",
    "    A = mean(m_a)\n",
    "    g = geometric_mean(m_a)\n",
    "    print(\"la moyenne arithmetique est :\",A)\n",
    "    print(\"la moyenne geometrique est :\", g)\n"
   ]
  },
  {
   "cell_type": "code",
   "execution_count": null,
   "metadata": {},
   "outputs": [],
   "source": [
    "#Exercice4(b)\n",
    "from math import sqrt\n",
    "def distance_a_b():\n",
    "    x1 = int(input(\"Donner la valeur de l'adscisse du point a :\"))\n",
    "    x2 = int(input(\"Donner la valeur de l'adscisse du point b :\"))\n",
    "    x3 = int(input(\"Donner la valeur de l'adscisse du point c :\"))\n",
    "    y1 = int(input(\"Donner la valeur de l'ordonnée du point a :\"))\n",
    "    y2 = int(input(\"Donner la valeur de l'ordonnée du point b :\"))\n",
    "    y3 = int(input(\"Donner la valeur de l'ordonnée du point c :\"))\n",
    "    ab = (x1 - x2)**2 +(y1-y2)**2\n",
    "    bc = (x2 - x3)**2 + (y2 - y3)**2\n",
    "    ac = (x1 - x3)**2 + (y1 - y3)**2 \n",
    "    D_a_b = round(sqrt(ab),2)\n",
    "    D_b_c = round(sqrt(bc),2)\n",
    "    D_a_c = round(sqrt(ac),2) \n",
    "    print(\"la distance entre a et b est :\",D_a_b)\n",
    "    print(\"la distance entre b et c est :\",D_b_c)\n",
    "    print(\"la distance entre a et c est :\",D_a_c)\n",
    "    P = D_a_b + D_b_c + D_a_c\n",
    "    p = P/2\n",
    "    a = p*(p-D_a_b)*(p-D_b_c)*(p-D_b_c)\n",
    "    A = round(sqrt(a),2)\n",
    "    print(\"le périmetre du triangle formé par les points a, b et c est de :\",P,\"metres\")\n",
    "    print(\"la surface du triangle formé par les points a, b et c est de :\",A,\"metre carre\")\n",
    "          \n"
   ]
  },
  {
   "cell_type": "code",
   "execution_count": null,
   "metadata": {},
   "outputs": [],
   "source": [
    "#Exercice5\n",
    "def equation():\n",
    "        while 1: # 1 est toujours vrai -> boucle infinie\n",
    "                lettre = input (\" Si vous voulez quittrer, Tapez 'q' sinon tapper autre chose: \")\n",
    "                if lettre == \"q\":\n",
    "                    print (\"Merci da bien vouloir quitter \")\n",
    "                    break\n",
    "                else:\n",
    "                    n = int(input(\"Donner un entier n:\")) \n",
    "                    for i in range(1,n):\n",
    "                        n *= i\n",
    "                    print(n)\n",
    "                    print(\"Equotion du second degre\")\n",
    "                    a = float(input(\"Donner la valeur du coefficient a :\"))\n",
    "                    b = float(input(\"Donner la valeur du coefficient b :\"))\n",
    "                    c = float(input(\"Donner la valeur du coefficient c :\"))\n",
    "                    D = b**2 -4*a*c\n",
    "                    if D < 0:\n",
    "                        print(\"l'equation n'a pas de solutions\")\n",
    "                    elif D == 0:\n",
    "                        X0 = -b/(2*a)\n",
    "                        print(\"l'equation a une solution double: x =\", X0)\n",
    "                    else:\n",
    "                        d = sqrt(D)\n",
    "                        X1 = (-b-d)/2*a\n",
    "                        X2 = (-b+d)/2*a\n",
    "                        print(\"l'equation a deux solutions: X1=\",X1,\"et X2 =\",X2)\n"
   ]
  },
  {
   "cell_type": "code",
   "execution_count": null,
   "metadata": {},
   "outputs": [],
   "source": [
    "#Exercice6\n",
    "def power():\n",
    "    x = int(input(\"Donner un entier fixe :\"))\n",
    "    n = int(input(\"Donner l'ordre de la puissence :\"))\n",
    "    b = x\n",
    "    for i in range(n-1):\n",
    "        b*=x\n",
    "    print(x,\"puissence\",n,\"donne\",b)"
   ]
  },
  {
   "cell_type": "code",
   "execution_count": null,
   "metadata": {},
   "outputs": [],
   "source": []
  },
  {
   "cell_type": "code",
   "execution_count": 4,
   "metadata": {},
   "outputs": [],
   "source": [
    "#Exercice7\n",
    "def Fibo():\n",
    "    S_0 = int(input(\"Donner la premiere valeur\"))\n",
    "    S_1 = int(input(\"Donner la deuxieme valeur\"))\n",
    "    S_2 = S_0+S_1\n",
    "    S = [S_0,S_1,S_2]\n",
    "    for i in range(100-3):\n",
    "        S_0 = S_1\n",
    "        S_1 = S_2\n",
    "        S_2 = S_0 + S_1\n",
    "        S.append(S_2)\n",
    "    print(len(S))\n",
    "    print(S)"
   ]
  },
  {
   "cell_type": "code",
   "execution_count": 5,
   "metadata": {},
   "outputs": [
    {
     "name": "stdout",
     "output_type": "stream",
     "text": [
      "Donner la premiere valeur4\n",
      "Donner la deuxieme valeur5\n",
      "100\n",
      "[4, 5, 9, 14, 23, 37, 60, 97, 157, 254, 411, 665, 1076, 1741, 2817, 4558, 7375, 11933, 19308, 31241, 50549, 81790, 132339, 214129, 346468, 560597, 907065, 1467662, 2374727, 3842389, 6217116, 10059505, 16276621, 26336126, 42612747, 68948873, 111561620, 180510493, 292072113, 472582606, 764654719, 1237237325, 2001892044, 3239129369, 5241021413, 8480150782, 13721172195, 22201322977, 35922495172, 58123818149, 94046313321, 152170131470, 246216444791, 398386576261, 644603021052, 1042989597313, 1687592618365, 2730582215678, 4418174834043, 7148757049721, 11566931883764, 18715688933485, 30282620817249, 48998309750734, 79280930567983, 128279240318717, 207560170886700, 335839411205417, 543399582092117, 879238993297534, 1422638575389651, 2301877568687185, 3724516144076836, 6026393712764021, 9750909856840857, 15777303569604878, 25528213426445735, 41305516996050613, 66833730422496348, 108139247418546961, 174972977841043309, 283112225259590270, 458085203100633579, 741197428360223849, 1199282631460857428, 1940480059821081277, 3139762691281938705, 5080242751103019982, 8220005442384958687, 13300248193487978669, 21520253635872937356, 34820501829360916025, 56340755465233853381, 91161257294594769406, 147502012759828622787, 238663270054423392193, 386165282814252014980, 624828552868675407173, 1010993835682927422153, 1635822388551602829326]\n"
     ]
    }
   ],
   "source": [
    "Fibo()"
   ]
  },
  {
   "cell_type": "code",
   "execution_count": null,
   "metadata": {},
   "outputs": [],
   "source": []
  }
 ],
 "metadata": {
  "kernelspec": {
   "display_name": "Python 3",
   "language": "python",
   "name": "python3"
  },
  "language_info": {
   "codemirror_mode": {
    "name": "ipython",
    "version": 3
   },
   "file_extension": ".py",
   "mimetype": "text/x-python",
   "name": "python",
   "nbconvert_exporter": "python",
   "pygments_lexer": "ipython3",
   "version": "3.7.6"
  }
 },
 "nbformat": 4,
 "nbformat_minor": 4
}
