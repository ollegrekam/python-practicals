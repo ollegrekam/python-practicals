{
 "cells": [
  {
   "cell_type": "code",
   "execution_count": 1,
   "metadata": {},
   "outputs": [
    {
     "name": "stdout",
     "output_type": "stream",
     "text": [
      "saisir un entier naturel non nul79\n",
      "1524\n"
     ]
    }
   ],
   "source": [
    "#Exercice1\n",
    "#(ii) Calculons la somme\n",
    "n=int(input('saisir un entier naturel non nul'))\n",
    "som, i=3,1\n",
    "while(i<n):\n",
    "    som=som+i\n",
    "    i+=2\n",
    "print(som)"
   ]
  },
  {
   "cell_type": "code",
   "execution_count": 7,
   "metadata": {},
   "outputs": [
    {
     "name": "stdout",
     "output_type": "stream",
     "text": [
      "saisir le numero d'un jour4\n",
      "vendredi\n"
     ]
    }
   ],
   "source": [
    "#Exercice2\n",
    "jours=[\"lundi\", \"mardi\", \"mercredi\", \"jeudi\", \"vendredi\", \"weekend\",  \"weekend\"]\n",
    "i=int(input(\"saisir le numero d'un jour\"))\n",
    "print(jours[i])\n",
    "    "
   ]
  },
  {
   "cell_type": "code",
   "execution_count": 10,
   "metadata": {},
   "outputs": [
    {
     "name": "stdout",
     "output_type": "stream",
     "text": [
      "saisir le numero d'un mois comrpris entre 0 et 117\n",
      "Aout 31jours\n"
     ]
    }
   ],
   "source": [
    "#Exercice3\n",
    "list=['janvier 31jours' ,'fevrier 28jours', 'Mars 31jours', 'Avril 30jours', 'Mai 31jours', 'Juin 30jours', 'Juillet 30jours', 'Aout 31jours', 'Septembre 30jours', 'Octobre 31jours' , 'Novembre 30jours', 'Decembre 31jours']\n",
    "i=int(input(\"saisir le numero d'un mois comrpris entre 0 et 11\"))\n",
    "print(list[i])\n",
    "    \n"
   ]
  },
  {
   "cell_type": "code",
   "execution_count": 13,
   "metadata": {},
   "outputs": [
    {
     "name": "stdout",
     "output_type": "stream",
     "text": [
      "KAM Olle Gregoire\n",
      "KAM Olle Gregoire\n",
      "KAM Olle Gregoire\n"
     ]
    }
   ],
   "source": [
    "#exercice4\n",
    "\n",
    "for i in range(1,4):\n",
    "    print('KAM Olle Gregoire')\n",
    "\n"
   ]
  },
  {
   "cell_type": "code",
   "execution_count": 14,
   "metadata": {},
   "outputs": [
    {
     "name": "stdout",
     "output_type": "stream",
     "text": [
      "KAM Olle Gregoire\n",
      "KAM Olle Gregoire\n",
      "KAM Olle Gregoire\n"
     ]
    }
   ],
   "source": [
    "#exercice4(bis)\n",
    "i=0\n",
    "while(i<3):\n",
    "    print('KAM Olle Gregoire')\n",
    "    i+=1\n",
    "    "
   ]
  },
  {
   "cell_type": "code",
   "execution_count": 1,
   "metadata": {},
   "outputs": [
    {
     "name": "stdout",
     "output_type": "stream",
     "text": [
      "Donner la valeur du premier terme1\n",
      "Donner la valeur du dsecond terme1\n",
      "2\n",
      "3\n",
      "5\n",
      "8\n",
      "13\n",
      "21\n",
      "34\n",
      "55\n",
      "89\n",
      "144\n",
      "233\n",
      "377\n",
      "610\n",
      "987\n",
      "1597\n",
      "2584\n"
     ]
    }
   ],
   "source": [
    "#Exercice5\n",
    "a_0=int(input(\"Donner la valeur du premier terme\" ))\n",
    "a_1=int(input(\"Donner la valeur du dsecond terme\"))\n",
    "s,i=0,0\n",
    "while(i<16):\n",
    "    s=a_0+a_1\n",
    "    a_0, a_1=a_1, s\n",
    "    i+=1\n",
    "    print(s)   #les termes de la suite de Fibo a partir de l'ordre 2 sont:#"
   ]
  },
  {
   "cell_type": "code",
   "execution_count": 4,
   "metadata": {},
   "outputs": [
    {
     "name": "stdout",
     "output_type": "stream",
     "text": [
      "saisir le premier terme 2\n",
      "saisir le deuxieme terme de la suite6\n",
      "19.0\n",
      "60.0\n",
      "189.5\n",
      "598.5\n",
      "1890.25\n",
      "5970.0\n",
      "18855.125\n",
      "59550.375\n",
      "188078.6875\n",
      "594011.25\n",
      "1876073.09375\n",
      "5925224.90625\n",
      "18713711.265625\n",
      "59103746.25\n",
      "186668094.3828125\n",
      "589556156.2734375\n",
      "1862002516.0117188\n",
      "5880785626.171875\n",
      "18573358136.521484\n",
      "58660467222.65039\n",
      "185268080736.2119\n",
      "585134475819.9609\n",
      "1848037467827.9888\n",
      "5836679641393.947\n",
      "18434057658095.836\n",
      "58220512794984.484\n",
      "183878567214001.34\n",
      "580745958039496.2\n",
      "1834177157725489.5\n"
     ]
    }
   ],
   "source": [
    "#Exercice6\n",
    "\n",
    "x_0=int(input(\"saisir le premier terme \"))\n",
    "x_1=int(input(\"saisir le deuxieme terme de la suite\"))\n",
    "i=2\n",
    "#list=[]\n",
    "for i in range(2,31):\n",
    "    c=0.5*x_0+3*x_1\n",
    "    x_0,x_1=x_1,c\n",
    "    #list.append(c)\n",
    "    print(c)\n",
    "    "
   ]
  },
  {
   "cell_type": "code",
   "execution_count": 5,
   "metadata": {},
   "outputs": [
    {
     "name": "stdout",
     "output_type": "stream",
     "text": [
      "saisir une annee2015\n",
      "l'annee n'est pas bissextile\n"
     ]
    }
   ],
   "source": [
    "#Exercice7(a)\n",
    "n=int(input(\"saisir une annee\"))\n",
    "if(n%4==0^n%100!=0):\n",
    "    print(\"l'annee est bissextile\")\n",
    "else:\n",
    "    print(\"l'annee n'est pas bissextile\")"
   ]
  },
  {
   "cell_type": "code",
   "execution_count": null,
   "metadata": {},
   "outputs": [],
   "source": [
    "#Exercice7(b)\n",
    "n=int(input(\"saisir une annee\"))\n"
   ]
  },
  {
   "cell_type": "code",
   "execution_count": 6,
   "metadata": {},
   "outputs": [
    {
     "name": "stdout",
     "output_type": "stream",
     "text": [
      "saisir un entier5\n",
      "30\n"
     ]
    }
   ],
   "source": [
    "#Exercice8(a)\n",
    "n=int(input(\"saisir un entier\"))\n",
    "som=0\n",
    "for i in range(0,n):\n",
    "    som=i**2+som\n",
    "print(som)"
   ]
  },
  {
   "cell_type": "code",
   "execution_count": 1,
   "metadata": {},
   "outputs": [
    {
     "name": "stdout",
     "output_type": "stream",
     "text": [
      "saisir un entier5\n",
      "30\n"
     ]
    }
   ],
   "source": [
    "#Exercice8(a)\n",
    "n=int(input(\"saisir un entier\"))\n",
    "som=0\n",
    "i=0\n",
    "while(i<n):\n",
    "    som=i**2+som\n",
    "    i+=1\n",
    "print(som)"
   ]
  },
  {
   "cell_type": "code",
   "execution_count": 14,
   "metadata": {},
   "outputs": [
    {
     "name": "stdout",
     "output_type": "stream",
     "text": [
      "saisir un entier8\n",
      "3\n"
     ]
    }
   ],
   "source": [
    "#Exercice8(b)\n",
    "M=int(input(\"saisir un entier\"))\n",
    "i,som=0,0\n",
    "while(som<M):\n",
    "    i+=1\n",
    "    som=som+i**2\n",
    "print(i)\n",
    "\n",
    "\n"
   ]
  },
  {
   "cell_type": "code",
   "execution_count": null,
   "metadata": {},
   "outputs": [],
   "source": [
    "#Exercice8(b)\n",
    "M=int(input(\"saisir un entier\"))\n",
    "i,som=0,0\n",
    "for i in range(1,)"
   ]
  },
  {
   "cell_type": "code",
   "execution_count": 7,
   "metadata": {},
   "outputs": [
    {
     "name": "stdout",
     "output_type": "stream",
     "text": [
      "saisir un entier naturel non nul17\n",
      "le nombre est premier\n"
     ]
    }
   ],
   "source": [
    "#Exercice8(b)\n",
    "n=int(input(\"saisir un entier naturel non nul\"))\n",
    "for i in range(2,n):\n",
    "    if(n%i==0):\n",
    "        prrint(\"le nombre n'est premier\")\n",
    "else:\n",
    "    print(\"le nombre est premier\")"
   ]
  },
  {
   "cell_type": "code",
   "execution_count": 15,
   "metadata": {},
   "outputs": [
    {
     "name": "stdout",
     "output_type": "stream",
     "text": [
      "saisir un entier naturel non nul8\n",
      "1\n",
      "2\n",
      "4\n",
      "8\n"
     ]
    }
   ],
   "source": [
    "#Exercice9(a)\n",
    "n=int(input(\"saisir un entier naturel non nul\"))\n",
    "for i in range(1,n+1):\n",
    "    if(n%i==0):\n",
    "        print(i)\n"
   ]
  },
  {
   "cell_type": "code",
   "execution_count": 1,
   "metadata": {},
   "outputs": [],
   "source": [
    "#Exercice10\n",
    "def table():\n",
    "    f = int(input(\"Donner un nombre entre 0 et 9 :\"))\n",
    "    k = int(input(\"Donner le nombre de multiple :\"))\n",
    "    i = 0\n",
    "    while i <= k:\n",
    "        print(i, 'fois', f , '=', i*f)\n",
    "        i+=1"
   ]
  },
  {
   "cell_type": "code",
   "execution_count": 2,
   "metadata": {},
   "outputs": [
    {
     "name": "stdout",
     "output_type": "stream",
     "text": [
      "Donner un nombre entre 0 et 9 :5\n",
      "Donner le nombre de multiple :2\n",
      "0 fois 5 = 0\n",
      "1 fois 5 = 5\n",
      "2 fois 5 = 10\n"
     ]
    }
   ],
   "source": [
    "table()"
   ]
  },
  {
   "cell_type": "code",
   "execution_count": null,
   "metadata": {},
   "outputs": [],
   "source": [
    "#Exercice11\n",
    "        if i%3==0 or i%7 ==0 or i%11==0:\n"
   ]
  },
  {
   "cell_type": "code",
   "execution_count": null,
   "metadata": {},
   "outputs": [],
   "source": [
    "def part():\n",
    "    r = float(input(\"donner un nombre réel :\"))\n",
    "    return (1+int(r-1))"
   ]
  },
  {
   "cell_type": "code",
   "execution_count": 3,
   "metadata": {},
   "outputs": [],
   "source": [
    "#Exercice13\n",
    "def cart():\n",
    "    x = float(input(\"Donnee l'abscice du point :\"))\n",
    "    y = float(input(\"Donnee l'ordonnée du point :\"))\n",
    "    if x > 0 and y > 0:\n",
    "        print(\" le point de coordonnées\",\"(\",x,\",\",y,\")\",\"se situe dans le premier quadrant\")\n",
    "    elif x < 0 and y > 0:\n",
    "        print(\"le point de coordonnées\",\"(\",x,\",\",y,\")\",\"se situe dans le deuxième quadrant\")\n",
    "    elif x < 0 and y < 0:\n",
    "        print(\"le point de coordonnées\",\"(\",x,\",\",y,\")\",\"se situe dans le troisième quadrant\")\n",
    "    elif x > 0 and y < 0:\n",
    "        print(\"le point de coordonnées\",\"(\",x,\",\",y,\")\",\"se situe dans le quatrième quadrant\")\n",
    "    else:\n",
    "        print(\"le point se situe à l'origine du repère\")\n",
    "              \n"
   ]
  },
  {
   "cell_type": "code",
   "execution_count": 4,
   "metadata": {},
   "outputs": [],
   "source": [
    "#Exercice14\n",
    "def mult_n():\n",
    "        while 1: # 1 est toujours vrai -> boucle infinie\n",
    "                lettre = input (\" Si vous voulez quittrer, Tapez 'q' sinon tapper autre chose: \")\n",
    "                if lettre == \"q\":\n",
    "                    print (\"Merci da bien vouloir quitter \")\n",
    "                    break\n",
    "                else:\n",
    "                    x = int(input(\"Donner un entier compris entre 0 et 9 :\"))\n",
    "                    while  x <0 or x > 9:\n",
    "                        x = int(input(\"Donner un entier compris entre 0 et 9 :\"))\n",
    "                    max = int(input(\"Donner un nombre comprie entre 0 et 255 :\"))\n",
    "                    while max < 0 or max > 255:\n",
    "                        max = int(input(\"Donner un nombre comprie entre 0 et 255 :\"))\n",
    "                    S = []\n",
    "                    for i in range(max) :\n",
    "                        if i%x==0:\n",
    "                            S.append(i)\n",
    "                    print(S)\n"
   ]
  }
 ],
 "metadata": {
  "kernelspec": {
   "display_name": "Python 3",
   "language": "python",
   "name": "python3"
  },
  "language_info": {
   "codemirror_mode": {
    "name": "ipython",
    "version": 3
   },
   "file_extension": ".py",
   "mimetype": "text/x-python",
   "name": "python",
   "nbconvert_exporter": "python",
   "pygments_lexer": "ipython3",
   "version": "3.7.6"
  }
 },
 "nbformat": 4,
 "nbformat_minor": 4
}
