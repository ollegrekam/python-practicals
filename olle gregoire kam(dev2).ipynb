{
 "cells": [
  {
   "cell_type": "markdown",
   "metadata": {
    "id": "RAWKZD-l8aDi"
   },
   "source": [
    "\n",
    "<center>\n",
    "    <a href=\"https://www.aims-senegal.org/\" ><img src=\"aimssn_logo.png\" style=\"float:center; max-width: 600px; display: inline\" alt=\"AIMS-SN\"/> </a>\n",
    "    </center>\n",
    "    \n",
    "#    <center> <b> <span style=\"color:orange;\" >  `Python for Scientific Computing and Software Engineering ` </span> </b></center>\n",
    "\n",
    "\n",
    "## <center> <b> <span style=\"color:orange;\"> An Initiation to Programming using Python (Init2Py) </span> </b></center>\n",
    "\n",
    "### <center> <b> <span style=\"color:blue;\"> Travaux Pratiques: Chaînes de caractères</span> </b></center>\n",
    "\n"
   ]
  },
  {
   "cell_type": "markdown",
   "metadata": {},
   "source": [
    "**EN = English**                     \n",
    "\n",
    "**FR = Français**"
   ]
  },
  {
   "cell_type": "markdown",
   "metadata": {
    "id": "MqQawZ_q8aDl"
   },
   "source": [
    "#### **Exercice 00:**  \n",
    "> **FR: Concaténation des chaînes 'Trente', 'Jours', 'De', 'Python', 'Trente Jours De Python' en une seule chaîne.**\n",
    "\n",
    "> **EN: Concatenation of the strings 'Thirty', 'Days', 'From', 'Python', 'Thirty Days From Python' into one string.**"
   ]
  },
  {
   "cell_type": "code",
   "execution_count": 2,
   "metadata": {
    "id": "_nco70S-8aDo"
   },
   "outputs": [
    {
     "name": "stdout",
     "output_type": "stream",
     "text": [
      "Trente Jours De Pyhon\n"
     ]
    }
   ],
   "source": [
    "A=\"Trente \"\n",
    "B=\"Jours \"\n",
    "C=\"De \"\n",
    "D=\"Pyhon\"\n",
    "E=A+B+C+D\n",
    "print(E)"
   ]
  },
  {
   "cell_type": "markdown",
   "metadata": {
    "id": "UdYv8mBJ8aDt"
   },
   "source": [
    "#### **Exercice 01:**  \n",
    "> **FR: Concaténer la chaîne 'Codage', 'Pour', 'Tous' en une seule chaîne, 'Codage Pour Tous'.**\n",
    "\n",
    "> **EN: Concatenate the string 'Coding', 'For', 'All' into one string, 'Coding For All'.**"
   ]
  },
  {
   "cell_type": "code",
   "execution_count": 3,
   "metadata": {
    "id": "Q-YHaNPp8aDx"
   },
   "outputs": [
    {
     "name": "stdout",
     "output_type": "stream",
     "text": [
      "Codage Pour Tous.\n"
     ]
    }
   ],
   "source": [
    "A='Codage '\n",
    "B='Pour '\n",
    "C='Tous.'\n",
    "D=A+B+C\n",
    "print(D)"
   ]
  },
  {
   "cell_type": "markdown",
   "metadata": {
    "id": "CBYAS7io8aD0"
   },
   "source": [
    "#### **Exercice 02:**  \n",
    "> FR:\n",
    "> 1. **Déclarer une variable nommée `compagnie` et lui attribuer une valeur initiale `Coding    For All`.**\n",
    "> 2. **Imprimez la variable `compagnie` en utilisant `print()`.**\n",
    "\n",
    "> EN:\n",
    "> 1. **Declare a variable named `company` and give it an initial value `Coding For All`.**\n",
    "> 2. **Print the variable `company` using `print()`.**\n"
   ]
  },
  {
   "cell_type": "code",
   "execution_count": 5,
   "metadata": {
    "id": "crZdf6LS8aD2"
   },
   "outputs": [
    {
     "name": "stdout",
     "output_type": "stream",
     "text": [
      "Coding For All\n"
     ]
    }
   ],
   "source": [
    "compagnie='Coding For All'\n",
    "print(compagnie)"
   ]
  },
  {
   "cell_type": "markdown",
   "metadata": {
    "id": "Sw7GIfGV8aD3"
   },
   "source": [
    "#### **Exercice 03:** \n",
    "> FR:\n",
    ">1. **Imprimez la longueur de la chaîne de la société en utilisant la méthode `len()` et la fonction `print()`.**\n",
    ">2. **Changez tous les caractères en lettres majuscules à l'aide de la méthode `upper()`.**\n",
    ">3. **Changez tous les caractères en minuscules à l'aide de la méthode `lower()`.**\n",
    ">4. **Utilisez les méthodes `capitalize()`, `title()`, `swapcase()` pour formater la valeur de la chaîne `Coding For All\"`.**\n",
    "\n",
    "> EN:\n",
    ">1. **Print the length of the company string using the `len()` method and the `print()` function.**\n",
    ">2. **Change all characters to uppercase using the `upper()` method.**\n",
    ">3. **Change all characters to lowercase using the `lower()` method.**\n",
    ">4. **Use the `capitalize()`, `title()`, `swapcase()` methods to format the value of the `Coding For All\"`string.**\n",
    " "
   ]
  },
  {
   "cell_type": "code",
   "execution_count": 17,
   "metadata": {
    "id": "rFntZB6J8aD6"
   },
   "outputs": [
    {
     "name": "stdout",
     "output_type": "stream",
     "text": [
      "14\n",
      "CODING FOR ALL\n",
      "coding for all\n",
      "Coding for all\n",
      "Coding For All\n",
      "cODING fOR aLL\n"
     ]
    }
   ],
   "source": [
    "l=len(compagnie)#question1\n",
    "print(l)#question1\n",
    "G=compagnie.upper()#question2\n",
    "print(G)#question2\n",
    "g=compagnie.lower()#question3\n",
    "print(g)#question3\n",
    "k=compagnie.capitalize()\n",
    "print(k)\n",
    "m=compagnie.title()\n",
    "print(m)\n",
    "n=compagnie.swapcase()\n",
    "print(n)"
   ]
  },
  {
   "cell_type": "markdown",
   "metadata": {
    "id": "QOvVg49v8aD9"
   },
   "source": [
    "#### **Exercice 04:** \n",
    ">FR:\n",
    ">1. **Remplacez le mot `Coding` dans la chaîne `Coding For All` par `Python`.**\n",
    ">2. **Divisez la chaîne `Coding For All` en utilisant l'espace comme séparateur `(split())`.**\n",
    ">3. **Quel est le caractère à l'indice 0 dans la chaîne `Coding For All`?**\n",
    ">4. **Quel est le dernier indice de la chaîne `Coding For All` ?**\n",
    "\n",
    ">EN:\n",
    ">1. **Replace the word `Coding` in the `Coding For All` string with `Python`.**\n",
    ">2. **Split the `Coding For All` string using the space as a separator `(split())`.**.\n",
    ">3. **What is the character at index 0 in the string `Coding For All`?**.\n",
    ">4. **What is the last index of the string `Coding For All`?**."
   ]
  },
  {
   "cell_type": "code",
   "execution_count": 19,
   "metadata": {
    "id": "Q4CYyw1r8aD-"
   },
   "outputs": [
    {
     "name": "stdout",
     "output_type": "stream",
     "text": [
      "Python For all\n"
     ]
    }
   ],
   "source": [
    "print('{Coding} For all'.format(Coding='Python'))"
   ]
  },
  {
   "cell_type": "markdown",
   "metadata": {
    "id": "3D3Q3P628aD_"
   },
   "source": [
    "#### **Exercice 05:** \n",
    ">**FR: Etant donné une chaine `__s__`, afficher une chaine faite des deux premiers et\n",
    "des deux derniers caractères.**\n",
    "\n",
    ">**EN: Given a string `__s__`, display a string made of the first two and last two characters the last two characters.**"
   ]
  },
  {
   "cell_type": "code",
   "execution_count": 10,
   "metadata": {
    "id": "LnbrdEnY8aEA"
   },
   "outputs": [
    {
     "name": "stdout",
     "output_type": "stream",
     "text": [
      "Dael\n"
     ]
    }
   ],
   "source": [
    "x = \"Daniel\"\n",
    "print(x[0] +x[1] + x[-2] +x[-1])"
   ]
  },
  {
   "cell_type": "markdown",
   "metadata": {
    "id": "vLipzQ2T8aEA"
   },
   "source": [
    "#### **Exercice 06:** \n",
    "> **FR: Afficher les textes suivants à l’aide d’une seule instruction\n",
    "`print()`** :\n",
    "\n",
    "    un peu\n",
    "    beaucoup\n",
    "    passionnément\n",
    "\n",
    "    \"je t'aime\" dit-elle\n",
    "    \n",
    "    \n",
    "> **EN: Display the following texts with a single statement\n",
    "print()`**     \n",
    "\n",
    "    a little\n",
    "    a lot\n",
    "    passionately\n",
    "\n",
    "    \"I love you\" she says"
   ]
  },
  {
   "cell_type": "code",
   "execution_count": 26,
   "metadata": {
    "id": "N8Y6B2i68aEC"
   },
   "outputs": [
    {
     "name": "stdout",
     "output_type": "stream",
     "text": [
      "un peu\n",
      "beaucoup\n",
      "passionnément\n",
      "\"je t'aime\" dit-elle \n"
     ]
    }
   ],
   "source": [
    "print(\"un peu\\nbeaucoup\\npassionnément\\n\\\"je t'aime\\\" dit-elle \")"
   ]
  },
  {
   "cell_type": "markdown",
   "metadata": {
    "id": "77GI9ooS8aEC"
   },
   "source": [
    "#### **Exercice 07:** \n",
    "> **FR: Écrivez un programme pour vérifier si la lettre 'e' est présente dans le mot 'Parapluie'.**\n",
    "\n",
    "> **EN: Write a program to check if the letter 'e' is present in the word 'Umbrella'.**"
   ]
  },
  {
   "cell_type": "code",
   "execution_count": 5,
   "metadata": {
    "id": "FFdDrMKd8aEE"
   },
   "outputs": [
    {
     "name": "stdout",
     "output_type": "stream",
     "text": [
      "oui\n"
     ]
    }
   ],
   "source": [
    "c='Parapluie'\n",
    "if 'e' in c:\n",
    "    print('oui')\n",
    "    "
   ]
  },
  {
   "cell_type": "markdown",
   "metadata": {
    "id": "fQPHnxs18aEE"
   },
   "source": [
    "#### **Exercice 08:** \n",
    "> **FR: Demandez à l'utilisateur de saisir son prénom et son nom de famille en réponse à une seule invite. Utilisez `split()` pour extraire les noms, puis affectez chaque nom à une variable différente.**\n",
    "\n",
    "> **EN: Ask the user to enter their first and last name in response to a single prompt. Use `split()` to extract the names, then assign each name to a different variable.**"
   ]
  },
  {
   "cell_type": "code",
   "execution_count": 30,
   "metadata": {
    "id": "TINJOu3g8aEG"
   },
   "outputs": [
    {
     "name": "stdout",
     "output_type": "stream",
     "text": [
      "entrer votre nom et prenomdghj erhk\n",
      "dghj\n",
      "erhk\n"
     ]
    }
   ],
   "source": [
    "f=input(\"entrer votre nom et prenom\")\n",
    "f=f.split()\n",
    "e=f[0]\n",
    "p=f[1]\n",
    "print(e)\n",
    "print(p)"
   ]
  },
  {
   "cell_type": "markdown",
   "metadata": {
    "id": "cT6btvDz8aER"
   },
   "source": [
    "#### **Exercice 09:** \n",
    "> **FR: Demandez à l'utilisateur de saisir un mot, puis imprimez la longueur de ce mot.**\n",
    "\n",
    "> **EN: Ask the user to enter a word, then print the length of the word.**\n"
   ]
  },
  {
   "cell_type": "code",
   "execution_count": 24,
   "metadata": {
    "id": "feE7z0Q18aET"
   },
   "outputs": [
    {
     "name": "stdout",
     "output_type": "stream",
     "text": [
      "saisir un motjhi\n",
      "3\n"
     ]
    }
   ],
   "source": [
    "x=input(\"saisir un mot\")\n",
    "print(len(x))"
   ]
  },
  {
   "cell_type": "markdown",
   "metadata": {
    "id": "QGb8rYYT8aET"
   },
   "source": [
    "#### **Exercice 10:** \n",
    "> **FR: Écrivez un programme pour vérifier si le mot \"orange\" est présent dans l'expression \"Ceci est du jus d'orange\".**\n",
    "\n",
    ">**EN: Write a program to check if the word \"orange\" is present in the expression \"This is orange juice\".**"
   ]
  },
  {
   "cell_type": "code",
   "execution_count": 25,
   "metadata": {
    "id": "uLC2XFSq8aEU"
   },
   "outputs": [
    {
     "name": "stdout",
     "output_type": "stream",
     "text": [
      "True\n"
     ]
    }
   ],
   "source": [
    "P=\"Ceci est du jus d'orange\"\n",
    "print(\"orange\" in P)"
   ]
  },
  {
   "cell_type": "markdown",
   "metadata": {
    "id": "F4_j1vsN8aEU"
   },
   "source": [
    "#### **Exercice 11:** \n",
    "> **FR: Ecrivez un programme pour trouver la première et la dernière occurrence de la lettre 'o' et du caractère ',' dans \"Hello, World\".**\n",
    "\n",
    "> **EN: Write a program to find the first and last occurrence of the letter 'o' and the character ',' in \"Hello, World\".**"
   ]
  },
  {
   "cell_type": "code",
   "execution_count": 21,
   "metadata": {
    "id": "GAMvzqzX8aEV"
   },
   "outputs": [
    {
     "name": "stdout",
     "output_type": "stream",
     "text": [
      "la premiere occurrence de o est: 4\n",
      "la premiere occurrence de o est: 8\n",
      "l'occurrence de , dans le chaine est: 5\n"
     ]
    }
   ],
   "source": [
    "message=\"Hello, World\"\n",
    "print(\"la premiere occurrence de o est:\",message.find(\"o\"))\n",
    "print(\"la premiere occurrence de o est:\",message.rfind(\"o\"))\n",
    "print(\"l'occurrence de , dans le chaine est:\",message.find(','))"
   ]
  },
  {
   "cell_type": "markdown",
   "metadata": {
    "id": "r_CQjIqd8aEW"
   },
   "source": [
    "#### **Exercice 12:** \n",
    "> **FR: Écrivez un programme qui prend votre nom complet en entrée et affiche les abréviations du prénom et du second prénom, sauf le nom de famille qui est affiché tel quel. Par exemple, si votre nom est `Robert Brett Roser`, le résultat devrait être `R.B.Roser`.**\n",
    "\n",
    ">**EN: Write a program that takes your full name as input and displays the first and middle name abbreviations, except for the last name which is displayed as is. For example, if your name is `Robert Brett Roser`, the result should be `R.B.Roser`.**"
   ]
  },
  {
   "cell_type": "code",
   "execution_count": null,
   "metadata": {
    "id": "NNWynb7Y8aEW"
   },
   "outputs": [],
   "source": []
  },
  {
   "cell_type": "markdown",
   "metadata": {
    "id": "2DkugJeo8aEW"
   },
   "source": [
    "#### **Exercice 13:** \n",
    "> **FR: Écrivez un programme pour trouver le plus grand et le plus petit mot dans la chaîne \"Ceci est un parapluie\".** \n",
    "\n",
    ">**EN: Write a program to find the largest and smallest words in the string \"This is an umbrella\".**"
   ]
  },
  {
   "cell_type": "code",
   "execution_count": 31,
   "metadata": {
    "id": "NxVgnPk-8aEW"
   },
   "outputs": [
    {
     "name": "stdout",
     "output_type": "stream",
     "text": [
      "parapluie\n"
     ]
    }
   ],
   "source": [
    "a=\"Ceci est un parapluie\"\n",
    "long=\" \"\n",
    "x=a.split()\n",
    "\n",
    "for i in x:\n",
    "    if len(i)>len(long):\n",
    "        long=i\n",
    "print(long)\n",
    "    "
   ]
  },
  {
   "cell_type": "markdown",
   "metadata": {
    "id": "BOXwh7TP8aEW"
   },
   "source": [
    "#### **Exercice 14:** \n",
    "> **FR: Écrivez un programme pour créer une nouvelle chaîne de caractères avec le mot `le` supprimé dans la phrase `C'est le lion dans la cage`.**\n",
    "\n",
    ">**EN: Write a program to create a new string with the word `the` deleted in the sentence `This is the lion in the cage`.**"
   ]
  },
  {
   "cell_type": "code",
   "execution_count": null,
   "metadata": {
    "id": "EDkYOKMb8aEX"
   },
   "outputs": [],
   "source": []
  },
  {
   "cell_type": "markdown",
   "metadata": {
    "id": "yh9w0U9j8aEX"
   },
   "source": [
    "#### **Exercice 14:** \n",
    "> **FR:Créez un programme qui demande à l'utilisateur d'entrer son nom et son âge en 2021. Imprimez un message qui lui est adressé et qui lui indique l'année où il aura 100 ans.**\n",
    "\n",
    ">**EN: Create a program that asks the user to enter their name and age in 2021. Print a message to the user that tells them the year they will be 100 years old.**"
   ]
  },
  {
   "cell_type": "code",
   "execution_count": null,
   "metadata": {
    "id": "GvFyoDRa8aEY"
   },
   "outputs": [],
   "source": [
    "v=input(\"donner votre nom et prenom ainsi que votre age aujourdhui\")\n",
    "v=v.split()\n",
    "a=v[0]\n",
    "b=v[1]\n",
    "an=(100-int(t))+2021\n",
    "print( \"a , vous aurez 100ans en \", an)\n"
   ]
  },
  {
   "cell_type": "markdown",
   "metadata": {
    "id": "2-Sc_vhb8aEY"
   },
   "source": [
    "#### **Exercice 15:** \n",
    "> **FR:Définissez la variable `x` comme la chaîne de caractères `x`= \"abcde\" .**\n",
    ">1. **Quelle est la valuer de 3*x?**\n",
    ">2. **Quelle est la valuer de x[1]?**\n",
    ">3. **Quelle est la valuer de x[-1]?**\n",
    ">4. **Quelle est la valuer de x[::2]?**\n",
    "\n",
    ">**EN: Set the variable `x` as the string `x`=\"abcde\" .**.\n",
    ">1. **What is the value of 3*x?**\n",
    ">2. **What is the value of x[1]?**\n",
    ">3. **What is the value of x[-1]?**.\n",
    ">4. **What is the value of x[::2]?**"
   ]
  },
  {
   "cell_type": "code",
   "execution_count": 11,
   "metadata": {},
   "outputs": [
    {
     "name": "stdout",
     "output_type": "stream",
     "text": [
      "La valeur de 3*x est: abcdeabcdeabcde\n",
      "la valeur de x[1] est: b\n",
      "la valeur de x[-1] est: e\n",
      "la valeur de x[::2] est: ace\n"
     ]
    }
   ],
   "source": [
    "x=\"abcde\"\n",
    "print(\"La valeur de 3*x est:\",3*x)\n",
    "print(\"la valeur de x[1] est:\",x[1])\n",
    "print(\"la valeur de x[-1] est:\",x[-1])\n",
    "print(\"la valeur de x[::2] est:\", x[::2])\n"
   ]
  },
  {
   "cell_type": "markdown",
   "metadata": {
    "id": "sFtnj29L8aEa"
   },
   "source": [
    "#### **Exercice 16:** \n",
    ">**FR:Créez une chaîne unique contenant 5 copies de la chaîne 'abc'.**\n",
    "\n",
    ">**EN:Create a single string containing 5 copies of the string 'abc'.**"
   ]
  },
  {
   "cell_type": "code",
   "execution_count": 6,
   "metadata": {
    "id": "BJ12q8Dp8aEb"
   },
   "outputs": [
    {
     "name": "stdout",
     "output_type": "stream",
     "text": [
      "abcabcabcabcabc\n"
     ]
    }
   ],
   "source": [
    "x=\"abc\"\n",
    "print(5*x)"
   ]
  },
  {
   "cell_type": "markdown",
   "metadata": {
    "id": "OmIC91BU8aEc"
   },
   "source": [
    "#### **Exercice 17:** \n",
    ">**FR:Utilisez l'opérateur de multiplication pour créer une \"ligne\" de 50 tirets.**\n",
    "\n",
    ">**EN:Use the multiplication operator to create a \"line\" of 50 dashes.**"
   ]
  },
  {
   "cell_type": "code",
   "execution_count": 5,
   "metadata": {
    "id": "9ruTWtlx8aEe"
   },
   "outputs": [
    {
     "name": "stdout",
     "output_type": "stream",
     "text": [
      "--------------------------------------------------\n"
     ]
    }
   ],
   "source": [
    "print(50*'-')"
   ]
  },
  {
   "cell_type": "markdown",
   "metadata": {
    "id": "Y8H6ln1_8aEi"
   },
   "source": [
    "#### **Exercice 18:** \n",
    ">**FR: Ecrire un programme qui demande a l'utilisateur d'entrer la temperature en degres celsius et qui retourne la temperaure en degre Fahrenheit. Formule: (0°C × 9/5) + 32 = 32°F .**\n",
    "\n",
    ">**EN: Write a program that asks the user to enter the temperature in degrees Celsius and returns the temperature in degrees Fahrenheit. Formula: (0°C × 9/5) + 32 = 32°F .**"
   ]
  },
  {
   "cell_type": "code",
   "execution_count": 2,
   "metadata": {
    "id": "6WTyRFR08aEj"
   },
   "outputs": [
    {
     "name": "stdout",
     "output_type": "stream",
     "text": [
      "entrer une temperature8\n",
      "la temperature en degre Fahrenheit est: 14.4\n"
     ]
    }
   ],
   "source": [
    "n=input(\"entrer une temperature\")\n",
    "temp=9*float(n)/5\n",
    "print(\"la temperature en degre Fahrenheit est:\",temp)"
   ]
  },
  {
   "cell_type": "markdown",
   "metadata": {
    "id": "nFg9Kr2q8aEk"
   },
   "source": [
    "\n",
    "\n",
    "<center> <b> <span style=\"color:orange;\"> 🎉 FÉLICITATIONS! / CONGRATULATIONS! 🎉 </span> </b></center>"
   ]
  },
  {
   "cell_type": "code",
   "execution_count": null,
   "metadata": {},
   "outputs": [],
   "source": []
  },
  {
   "cell_type": "code",
   "execution_count": null,
   "metadata": {},
   "outputs": [],
   "source": []
  }
 ],
 "metadata": {
  "colab": {
   "name": "Exercices_01_Chaînes-de-caractères.ipynb",
   "provenance": []
  },
  "kernelspec": {
   "display_name": "Python 3",
   "language": "python",
   "name": "python3"
  },
  "language_info": {
   "codemirror_mode": {
    "name": "ipython",
    "version": 3
   },
   "file_extension": ".py",
   "mimetype": "text/x-python",
   "name": "python",
   "nbconvert_exporter": "python",
   "pygments_lexer": "ipython3",
   "version": "3.7.3"
  }
 },
 "nbformat": 4,
 "nbformat_minor": 1
}
